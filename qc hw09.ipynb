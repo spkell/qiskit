{
 "cells": [
  {
   "cell_type": "markdown",
   "metadata": {},
   "source": [
    "Sean Kelly\n",
    "10/12/20\n",
    "HW09"
   ]
  },
  {
   "cell_type": "markdown",
   "metadata": {},
   "source": [
    "9.1 B"
   ]
  },
  {
   "cell_type": "code",
   "execution_count": 1,
   "metadata": {},
   "outputs": [],
   "source": [
    "from qiskit import QuantumCircuit, Aer, execute"
   ]
  },
  {
   "cell_type": "code",
   "execution_count": 2,
   "metadata": {},
   "outputs": [
    {
     "data": {
      "image/png": "[encoded data removed]",
      "text/plain": [
       "<Figure size 261.032x144.48 with 1 Axes>"
      ]
     },
     "execution_count": 2,
     "metadata": {},
     "output_type": "execute_result"
    }
   ],
   "source": [
    "circ = QuantumCircuit(2)\n",
    "circ.h(0)\n",
    "circ.x(0)\n",
    "circ.h(1)\n",
    "circ.z(1)\n",
    "circ.draw('mpl')"
   ]
  },
  {
   "cell_type": "code",
   "execution_count": 3,
   "metadata": {
    "scrolled": true
   },
   "outputs": [
    {
     "name": "stdout",
     "output_type": "stream",
     "text": [
      "[[ 0.5+0.0000000e+00j -0.5+6.1232340e-17j  0.5-6.1232340e-17j\n",
      "  -0.5+1.2246468e-16j]\n",
      " [ 0.5+0.0000000e+00j  0.5-6.1232340e-17j  0.5-6.1232340e-17j\n",
      "   0.5-1.2246468e-16j]\n",
      " [-0.5+0.0000000e+00j  0.5-6.1232340e-17j  0.5-6.1232340e-17j\n",
      "  -0.5+1.2246468e-16j]\n",
      " [-0.5+0.0000000e+00j -0.5+6.1232340e-17j  0.5-6.1232340e-17j\n",
      "   0.5-1.2246468e-16j]]\n"
     ]
    }
   ],
   "source": [
    "sim = Aer.get_backend('unitary_simulator')\n",
    "res = execute(circ, sim).result()\n",
    "print(res.get_unitary())"
   ]
  },
  {
   "cell_type": "code",
   "execution_count": 4,
   "metadata": {},
   "outputs": [],
   "source": [
    "#Part A output: #  1  1 -1 -1\n",
    "                # -1  1  1 -1      * 1/2\n",
    "                #  1  1  1  1\n",
    "                # -1  1 -1  1\n",
    "            \n",
    "#Part B output: #  1 -1  1 -1\n",
    "                #  1  1  1  1      * 1/2\n",
    "  #(above)      # -1  1  1 -1\n",
    "                # -1 -1  1  1"
   ]
  },
  {
   "cell_type": "markdown",
   "metadata": {},
   "source": [
    "The answer from part A is different from part B. Specifically, the answer from part B is the transpose of part A. This is due to qiskit representing the order of qubits in reverse order to how they were represented in part A, which resulted in qiskit computing the tensor product of the 2 qubits in the reverse order. "
   ]
  },
  {
   "cell_type": "code",
   "execution_count": null,
   "metadata": {},
   "outputs": [],
   "source": []
  },
  {
   "cell_type": "markdown",
   "metadata": {},
   "source": [
    "9.1 C"
   ]
  },
  {
   "cell_type": "code",
   "execution_count": 5,
   "metadata": {
    "scrolled": true
   },
   "outputs": [
    {
     "data": {
      "image/png": "[encoded data removed]",
      "text/plain": [
       "<Figure size 261.032x144.48 with 1 Axes>"
      ]
     },
     "execution_count": 5,
     "metadata": {},
     "output_type": "execute_result"
    }
   ],
   "source": [
    "circ = QuantumCircuit(2)\n",
    "circ.x(0)\n",
    "circ.z(0)\n",
    "circ.y(1)\n",
    "circ.draw('mpl')"
   ]
  },
  {
   "cell_type": "code",
   "execution_count": 6,
   "metadata": {},
   "outputs": [
    {
     "name": "stdout",
     "output_type": "stream",
     "text": [
      "[[ 0.-0.j  0.-0.j  0.-0.j  0.-1.j]\n",
      " [ 0.+0.j  0.+0.j  0.+1.j  0.+0.j]\n",
      " [ 0.+0.j  0.+1.j  0.+0.j  0.+0.j]\n",
      " [-0.-1.j -0.+0.j -0.+0.j -0.+0.j]]\n"
     ]
    }
   ],
   "source": [
    "sim = Aer.get_backend('unitary_simulator')\n",
    "res = execute(circ, sim).result()\n",
    "print(res.get_unitary())\n",
    "#identical to opposite tensor product as was calculated in part c (i)"
   ]
  },
  {
   "cell_type": "code",
   "execution_count": null,
   "metadata": {},
   "outputs": [],
   "source": []
  },
  {
   "cell_type": "markdown",
   "metadata": {},
   "source": [
    "9.2 B"
   ]
  },
  {
   "cell_type": "code",
   "execution_count": 7,
   "metadata": {},
   "outputs": [
    {
     "data": {
      "image/png": "[encoded data removed]",
      "text/plain": [
       "<Figure size 321.232x144.48 with 1 Axes>"
      ]
     },
     "execution_count": 7,
     "metadata": {},
     "output_type": "execute_result"
    }
   ],
   "source": [
    "circ = QuantumCircuit(2)\n",
    "circ.h(1)\n",
    "circ.cx(0,1)\n",
    "circ.h(1)\n",
    "circ.draw('mpl')"
   ]
  },
  {
   "cell_type": "code",
   "execution_count": 8,
   "metadata": {
    "scrolled": true
   },
   "outputs": [
    {
     "name": "stdout",
     "output_type": "stream",
     "text": [
      "[[ 1.00000000e+00-6.1232340e-17j  0.00000000e+00+0.0000000e+00j\n",
      "   7.49879891e-33+6.1232340e-17j  0.00000000e+00+0.0000000e+00j]\n",
      " [ 0.00000000e+00+0.0000000e+00j  1.00000000e+00-6.1232340e-17j\n",
      "   0.00000000e+00+0.0000000e+00j -2.22044605e-16-6.1232340e-17j]\n",
      " [ 0.00000000e+00+6.1232340e-17j  0.00000000e+00+0.0000000e+00j\n",
      "   1.00000000e+00-1.8369702e-16j  0.00000000e+00+0.0000000e+00j]\n",
      " [ 0.00000000e+00+0.0000000e+00j -2.22044605e-16+6.1232340e-17j\n",
      "   0.00000000e+00+0.0000000e+00j -1.00000000e+00+1.8369702e-16j]]\n"
     ]
    }
   ],
   "source": [
    "sim = Aer.get_backend('unitary_simulator')\n",
    "res = execute(circ, sim).result()\n",
    "print(res.get_unitary())"
   ]
  },
  {
   "cell_type": "code",
   "execution_count": null,
   "metadata": {},
   "outputs": [],
   "source": []
  },
  {
   "cell_type": "markdown",
   "metadata": {},
   "source": [
    "9.3 C"
   ]
  },
  {
   "cell_type": "code",
   "execution_count": 9,
   "metadata": {},
   "outputs": [],
   "source": [
    "from qiskit import QuantumCircuit, execute, Aer\n",
    "from qiskit.visualization import plot_histogram"
   ]
  },
  {
   "cell_type": "code",
   "execution_count": 10,
   "metadata": {},
   "outputs": [
    {
     "data": {
      "image/png": "[encoded data removed]",
      "text/plain": [
       "<Figure size 381.432x204.68 with 1 Axes>"
      ]
     },
     "execution_count": 10,
     "metadata": {},
     "output_type": "execute_result"
    }
   ],
   "source": [
    "# Initial State: |00>\n",
    "\n",
    "circ = QuantumCircuit(2,1)\n",
    "circ.initialize([1,0],0) #initializes 1st qubit to the 0 state\n",
    "circ.initialize([1,0],1) #initializes 2nd qubit to the 0 state\n",
    "\n",
    "circ.x(0)\n",
    "circ.cx(0,1)\n",
    "circ.x(0)\n",
    "circ.measure(1,0)\n",
    "circ.draw('mpl')"
   ]
  },
  {
   "cell_type": "code",
   "execution_count": 11,
   "metadata": {},
   "outputs": [
    {
     "name": "stdout",
     "output_type": "stream",
     "text": [
      "|00> Measurement:  {'1': 1000}\n"
     ]
    }
   ],
   "source": [
    "sim = Aer.get_backend('qasm_simulator')\n",
    "res = execute(circ, sim, shots = 1000).result()\n",
    "\n",
    "print(\"|00> Measurement: \", res.get_counts())"
   ]
  },
  {
   "cell_type": "markdown",
   "metadata": {},
   "source": [
    "|00>: The control qubit is zero, so the target qubit is operated on by the CNOT gate, and is flipped from the 0 to 1 state. The simulator shows that this 1 is returned with 100% probability since this operation will always happen given the |00> input."
   ]
  },
  {
   "cell_type": "code",
   "execution_count": null,
   "metadata": {},
   "outputs": [],
   "source": []
  },
  {
   "cell_type": "code",
   "execution_count": 12,
   "metadata": {
    "scrolled": true
   },
   "outputs": [
    {
     "data": {
      "image/png": "[encoded data removed]",
      "text/plain": [
       "<Figure size 381.432x204.68 with 1 Axes>"
      ]
     },
     "execution_count": 12,
     "metadata": {},
     "output_type": "execute_result"
    }
   ],
   "source": [
    "# Initial State: |01>\n",
    "\n",
    "circ = QuantumCircuit(2,1)\n",
    "circ.initialize([1,0],0) #initializes 1st qubit to the 0 state\n",
    "circ.initialize([0,1],1) #initializes 2nd qubit to the 1 state\n",
    "\n",
    "circ.x(0)\n",
    "circ.cx(0,1)\n",
    "circ.x(0)\n",
    "circ.measure(1,0)\n",
    "circ.draw('mpl')"
   ]
  },
  {
   "cell_type": "code",
   "execution_count": 13,
   "metadata": {},
   "outputs": [
    {
     "name": "stdout",
     "output_type": "stream",
     "text": [
      "|01> Measurement:  {'0': 1000}\n"
     ]
    }
   ],
   "source": [
    "sim = Aer.get_backend('qasm_simulator')\n",
    "res = execute(circ, sim, shots = 1000).result()\n",
    "\n",
    "print(\"|01> Measurement: \", res.get_counts())"
   ]
  },
  {
   "cell_type": "markdown",
   "metadata": {},
   "source": [
    "|01>: The control qubit is zero, so the target qubit is operated on by the CNOT gate, and is flipped from the 1 to 0 state. The simulator shows that this 0 is returned with 100% probability."
   ]
  },
  {
   "cell_type": "code",
   "execution_count": null,
   "metadata": {},
   "outputs": [],
   "source": []
  },
  {
   "cell_type": "code",
   "execution_count": 14,
   "metadata": {},
   "outputs": [
    {
     "data": {
      "image/png": "[encoded data removed]",
      "text/plain": [
       "<Figure size 381.432x204.68 with 1 Axes>"
      ]
     },
     "execution_count": 14,
     "metadata": {},
     "output_type": "execute_result"
    }
   ],
   "source": [
    "# Initial State: |10>\n",
    "\n",
    "circ = QuantumCircuit(2,1)\n",
    "circ.initialize([0,1],0) #initializes 1st qubit to the 1 state\n",
    "circ.initialize([1,0],1) #initializes 2nd qubit to the 0 state\n",
    "\n",
    "circ.x(0)\n",
    "circ.cx(0,1)\n",
    "circ.x(0)\n",
    "circ.measure(1,0)\n",
    "circ.draw('mpl')"
   ]
  },
  {
   "cell_type": "code",
   "execution_count": 15,
   "metadata": {},
   "outputs": [
    {
     "name": "stdout",
     "output_type": "stream",
     "text": [
      "|10> Measurement:  {'0': 1000}\n"
     ]
    }
   ],
   "source": [
    "sim = Aer.get_backend('qasm_simulator')\n",
    "res = execute(circ, sim, shots = 1000).result()\n",
    "\n",
    "print(\"|10> Measurement: \", res.get_counts())"
   ]
  },
  {
   "cell_type": "markdown",
   "metadata": {},
   "source": [
    "|10>: The control qubit is 1, so the target qubit is not operated on by the CNOT gate, and remains a 0. The simulator shows that this 0 is returned with 100% probability "
   ]
  },
  {
   "cell_type": "code",
   "execution_count": null,
   "metadata": {},
   "outputs": [],
   "source": []
  },
  {
   "cell_type": "code",
   "execution_count": 16,
   "metadata": {},
   "outputs": [
    {
     "data": {
      "image/png": "[encoded data removed]",
      "text/plain": [
       "<Figure size 381.432x204.68 with 1 Axes>"
      ]
     },
     "execution_count": 16,
     "metadata": {},
     "output_type": "execute_result"
    }
   ],
   "source": [
    "# Initial State: |11>\n",
    "\n",
    "circ = QuantumCircuit(2,1)\n",
    "circ.initialize([0,1],0) #initializes 1st qubit to the 1 state\n",
    "circ.initialize([0,1],1) #initializes 2nd qubit to the 1 state\n",
    "\n",
    "circ.x(0)\n",
    "circ.cx(0,1)\n",
    "circ.x(0)\n",
    "circ.measure(1,0)\n",
    "circ.draw('mpl')"
   ]
  },
  {
   "cell_type": "code",
   "execution_count": 17,
   "metadata": {},
   "outputs": [
    {
     "name": "stdout",
     "output_type": "stream",
     "text": [
      "|11> Measurement:  {'1': 1000}\n"
     ]
    }
   ],
   "source": [
    "sim = Aer.get_backend('qasm_simulator')\n",
    "res = execute(circ, sim, shots = 1000).result()\n",
    "\n",
    "print(\"|11> Measurement: \", res.get_counts())"
   ]
  },
  {
   "cell_type": "markdown",
   "metadata": {},
   "source": [
    "|11>: The control qubit is 1, so the target qubit is not operated on by the CNOT gate, and remains a 1. The simulator shows that this 1 is returned with 100% probability."
   ]
  }
 ],
 "metadata": {
  "kernelspec": {
   "display_name": "Python 3",
   "language": "python",
   "name": "python3"
  },
  "language_info": {
   "codemirror_mode": {
    "name": "ipython",
    "version": 3
   },
   "file_extension": ".py",
   "mimetype": "text/x-python",
   "name": "python",
   "nbconvert_exporter": "python",
   "pygments_lexer": "ipython3",
   "version": "3.7.6"
  }
 },
 "nbformat": 4,
 "nbformat_minor": 4
}
